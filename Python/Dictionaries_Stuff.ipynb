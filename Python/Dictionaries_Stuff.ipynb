{
 "cells": [
  {
   "cell_type": "code",
   "execution_count": 1,
   "id": "78fda71b",
   "metadata": {},
   "outputs": [
    {
     "data": {
      "text/plain": [
       "'two'"
      ]
     },
     "execution_count": 1,
     "metadata": {},
     "output_type": "execute_result"
    }
   ],
   "source": [
    "numbers={1:'one', 2:'two', 3:'three', 4:'four', 10:'ten'}\n",
    "numbers[2]"
   ]
  },
  {
   "cell_type": "code",
   "execution_count": 2,
   "id": "025eaf6a",
   "metadata": {},
   "outputs": [],
   "source": [
    "numbers[1]='ONE'"
   ]
  },
  {
   "cell_type": "code",
   "execution_count": 5,
   "id": "790f43e2",
   "metadata": {},
   "outputs": [
    {
     "data": {
      "text/plain": [
       "{1: 'ONE', 2: 'two', 3: 'three', 4: 'four', 10: 'ten'}"
      ]
     },
     "execution_count": 5,
     "metadata": {},
     "output_type": "execute_result"
    }
   ],
   "source": [
    "numbers"
   ]
  },
  {
   "cell_type": "code",
   "execution_count": 7,
   "id": "5516dada",
   "metadata": {},
   "outputs": [
    {
     "data": {
      "text/plain": [
       "{'One': 'O', 'Two': 'T', 'Three': 'T', 'Four': 'F'}"
      ]
     },
     "execution_count": 7,
     "metadata": {},
     "output_type": "execute_result"
    }
   ],
   "source": [
    "Num=['One','Two','Three','Four']\n",
    "ini={num:num[0] for num in Num}\n",
    "ini"
   ]
  },
  {
   "cell_type": "code",
   "execution_count": 9,
   "id": "a338de7c",
   "metadata": {},
   "outputs": [
    {
     "data": {
      "text/plain": [
       "True"
      ]
     },
     "execution_count": 9,
     "metadata": {},
     "output_type": "execute_result"
    }
   ],
   "source": [
    "'Two' in ini"
   ]
  },
  {
   "cell_type": "code",
   "execution_count": 13,
   "id": "67e1f0a3",
   "metadata": {},
   "outputs": [
    {
     "name": "stdout",
     "output_type": "stream",
     "text": [
      "1=ONE\n",
      "2=two\n",
      "3=three\n",
      "4=four\n",
      "10=ten\n"
     ]
    }
   ],
   "source": [
    "for i in numbers:\n",
    "    print(\"{}={}\".format(i,numbers[i]))"
   ]
  },
  {
   "cell_type": "code",
   "execution_count": 45,
   "id": "c9526239",
   "metadata": {},
   "outputs": [
    {
     "data": {
      "text/plain": [
       "['the learn python challenge casino',\n",
       " 'they bought a car, and a horse',\n",
       " 'casinoville']"
      ]
     },
     "execution_count": 45,
     "metadata": {},
     "output_type": "execute_result"
    }
   ],
   "source": [
    "doc_list = [\"The Learn Python Challenge Casino.\", \"They bought a car, and a horse\", \"Casinoville\"]\n",
    "keyword='car'\n",
    "clean_dl=[x.rstrip('.,').lower() for x in doc_list]\n",
    "clean_dl\n",
    "#count = [clean_dl.index(x) for x in clean_dl if keyword.lower() in x.split()]\n",
    "#count"
   ]
  },
  {
   "cell_type": "code",
   "execution_count": null,
   "id": "b3a33021",
   "metadata": {},
   "outputs": [],
   "source": []
  }
 ],
 "metadata": {
  "kernelspec": {
   "display_name": "Python 3 (ipykernel)",
   "language": "python",
   "name": "python3"
  },
  "language_info": {
   "codemirror_mode": {
    "name": "ipython",
    "version": 3
   },
   "file_extension": ".py",
   "mimetype": "text/x-python",
   "name": "python",
   "nbconvert_exporter": "python",
   "pygments_lexer": "ipython3",
   "version": "3.10.1"
  }
 },
 "nbformat": 4,
 "nbformat_minor": 5
}
