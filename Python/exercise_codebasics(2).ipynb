{
 "cells": [
  {
   "cell_type": "markdown",
   "id": "61b21f67",
   "metadata": {},
   "source": [
    "## IF Condition"
   ]
  },
  {
   "cell_type": "code",
   "execution_count": 7,
   "id": "82279bf3",
   "metadata": {},
   "outputs": [
    {
     "name": "stdout",
     "output_type": "stream",
     "text": [
      "Enter City Name \n",
      "\n",
      "delhi\n",
      "delhi is in India\n"
     ]
    }
   ],
   "source": [
    "india = [\"mumbai\", \"banglore\", \"chennai\", \"delhi\"]\n",
    "pakistan = [\"lahore\",\"karachi\",\"islamabad\"]\n",
    "bangladesh = [\"dhaka\", \"khulna\", \"rangpur\"]\n",
    "print(\"Enter City Name \\n\")\n",
    "city_nm=input()\n",
    "if city_nm in india:\n",
    "    print(city_nm + ' is in India')\n",
    "elif city_nm in pakistan:\n",
    "    print(city_nm + ' is in Pakistan')    \n",
    "elif city_nm in bangladesh:\n",
    "    print(city_nm + ' is in Bangladesh ')\n",
    "else: \n",
    "    print(\"The city name is out of database\")"
   ]
  },
  {
   "cell_type": "code",
   "execution_count": 20,
   "id": "089b257f",
   "metadata": {},
   "outputs": [
    {
     "name": "stdout",
     "output_type": "stream",
     "text": [
      "Enter your sugar level\n",
      "94\n",
      "The sugar level is normal\n"
     ]
    }
   ],
   "source": [
    "print('Enter your sugar level')\n",
    "suglvl = int(input())\n",
    "if suglvl > 100 :\n",
    "    print(\"The sugar level is high\")\n",
    "elif suglvl <80:\n",
    "    print(\"The sugar level is low\")\n",
    "else:\n",
    "    print(\"The sugar level is normal\")"
   ]
  },
  {
   "cell_type": "markdown",
   "id": "df8463bd",
   "metadata": {},
   "source": [
    "## For loop"
   ]
  },
  {
   "cell_type": "code",
   "execution_count": 12,
   "id": "28d1f0ed",
   "metadata": {},
   "outputs": [
    {
     "name": "stdout",
     "output_type": "stream",
     "text": [
      "How many rows for the pattern?\n",
      "5\n",
      "\n",
      "*\n",
      "**\n",
      "***\n",
      "****\n",
      "*****\n"
     ]
    }
   ],
   "source": [
    "print(\"How many rows for the pattern?\")\n",
    "r=int(input())\n",
    "for i in range(r+1):\n",
    "    string = ''\n",
    "    for j in range(i):\n",
    "        string += '*'\n",
    "    print(string)\n",
    " "
   ]
  },
  {
   "cell_type": "code",
   "execution_count": 14,
   "id": "c4885f9b",
   "metadata": {},
   "outputs": [
    {
     "name": "stdout",
     "output_type": "stream",
     "text": [
      "3\n",
      "5\n",
      "7\n",
      "9\n",
      "11\n",
      "13\n",
      "15\n",
      "17\n",
      "19\n"
     ]
    }
   ],
   "source": [
    "#Create a sequence of numbers from 3 to 19, but increment by 2 instead of 1\n",
    "for i in range(3,20,2):\n",
    "    print(i)"
   ]
  },
  {
   "cell_type": "markdown",
   "id": "2fdf06f0",
   "metadata": {},
   "source": [
    "## Dictionaries"
   ]
  },
  {
   "cell_type": "code",
   "execution_count": 33,
   "id": "592b6fbf",
   "metadata": {},
   "outputs": [
    {
     "name": "stdout",
     "output_type": "stream",
     "text": [
      "Enter your input:  \n",
      " 1.Print \n",
      " 2.Add \n",
      " 3.Remove \n",
      "\n",
      "Remove\n",
      "Enter Country name:\n",
      "India\n",
      "{'China': 143, 'USA': 32, 'Pakistan': 21}\n"
     ]
    }
   ],
   "source": [
    "dict={'China':143,'India':136,'USA':32,'Pakistan':21}\n",
    "print('Enter your input: ','\\n',\n",
    "     '1.Print','\\n',\n",
    "     '2.Add','\\n',\n",
    "     '3.Remove','\\n')\n",
    "user = input()\n",
    "if user == 'Print':\n",
    "    for cntry, p in dict.items():\n",
    "        print(f\"{cntry}==>{p}\")\n",
    "elif user == 'Add':\n",
    "    print(\"Enter Country name:\")\n",
    "    cntry = input()\n",
    "    if cntry in dict:\n",
    "        print(\"Already exists\")\n",
    "    else:    \n",
    "        print(\"Enter Country population:\")\n",
    "        dict[cntry]=int(input())\n",
    "    print(dict)    \n",
    "        \n",
    "elif user == 'Remove':\n",
    "    print(\"Enter Country name:\")\n",
    "    cntry = input() \n",
    "    if cntry not in dict:\n",
    "        print(\"The country is not present\")\n",
    "    else:\n",
    "        dict.pop(cntry)\n",
    "    print(dict)"
   ]
  },
  {
   "cell_type": "code",
   "execution_count": null,
   "id": "adc66b95",
   "metadata": {},
   "outputs": [],
   "source": []
  }
 ],
 "metadata": {
  "kernelspec": {
   "display_name": "Python 3 (ipykernel)",
   "language": "python",
   "name": "python3"
  },
  "language_info": {
   "codemirror_mode": {
    "name": "ipython",
    "version": 3
   },
   "file_extension": ".py",
   "mimetype": "text/x-python",
   "name": "python",
   "nbconvert_exporter": "python",
   "pygments_lexer": "ipython3",
   "version": "3.10.1"
  }
 },
 "nbformat": 4,
 "nbformat_minor": 5
}
